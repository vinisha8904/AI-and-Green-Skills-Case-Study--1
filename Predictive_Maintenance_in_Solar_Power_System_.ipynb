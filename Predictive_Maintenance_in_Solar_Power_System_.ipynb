{
  "nbformat": 4,
  "nbformat_minor": 0,
  "metadata": {
    "colab": {
      "provenance": []
    },
    "kernelspec": {
      "name": "python3",
      "display_name": "Python 3"
    },
    "language_info": {
      "name": "python"
    }
  },
  "cells": [
    {
      "cell_type": "code",
      "execution_count": 1,
      "metadata": {
        "colab": {
          "base_uri": "https://localhost:8080/",
          "height": 960
        },
        "id": "MDjqaGR3HCBt",
        "outputId": "bff50638-1343-4805-a47b-f0e9bb369c59"
      },
      "outputs": [
        {
          "output_type": "stream",
          "name": "stdout",
          "text": [
            "Data Head:\n",
            "    temperature     voltage   current     status\n",
            "0    49.967142  469.967772  3.987233    healthy\n",
            "1    43.617357  446.231684  4.783222    healthy\n",
            "2    51.476885  402.981518  3.811370    healthy\n",
            "3    60.230299  367.653161  4.538058  degrading\n",
            "4    42.658466  434.911166  2.159578    healthy\n",
            "\n",
            "Classification Report:\n",
            "               precision    recall  f1-score   support\n",
            "\n",
            "   degrading       0.99      1.00      0.99        80\n",
            "      failed       1.00      0.97      0.98        30\n",
            "     healthy       1.00      1.00      1.00       190\n",
            "\n",
            "    accuracy                           1.00       300\n",
            "   macro avg       1.00      0.99      0.99       300\n",
            "weighted avg       1.00      1.00      1.00       300\n",
            "\n",
            "Confusion Matrix:\n",
            " [[ 80   0   0]\n",
            " [  1  29   0]\n",
            " [  0   0 190]]\n",
            "Accuracy: 0.9966666666666667\n",
            "Precision: 0.9967078189300412\n",
            "Recall: 0.9966666666666667\n",
            "F1 Score: 0.9966487700459697\n"
          ]
        },
        {
          "output_type": "display_data",
          "data": {
            "text/plain": [
              "<Figure size 640x480 with 1 Axes>"
            ],
            "image/png": "[encoded data removed]"
          },
          "metadata": {}
        },
        {
          "output_type": "execute_result",
          "data": {
            "text/plain": [
              "['predictive_model.pkl']"
            ]
          },
          "metadata": {},
          "execution_count": 1
        }
      ],
      "source": [
        "# Predictive Maintenance in Solar Power Systems\n",
        "\n",
        "import pandas as pd\n",
        "import numpy as np\n",
        "import matplotlib.pyplot as plt\n",
        "import seaborn as sns\n",
        "from sklearn.model_selection import train_test_split, cross_val_score\n",
        "from sklearn.ensemble import RandomForestClassifier\n",
        "from sklearn.metrics import classification_report, confusion_matrix, accuracy_score, precision_score, recall_score, f1_score\n",
        "from sklearn.preprocessing import StandardScaler\n",
        "\n",
        "# Load Dataset (Replace with actual dataset path)\n",
        "data = pd.read_csv('/content/solar_predictive_maintenance_dataset.csv')\n",
        "\n",
        "# Preview Dataset\n",
        "print(\"Data Head:\\n\", data.head())\n",
        "\n",
        "# Data Cleaning (Remove missing and duplicate values)\n",
        "data.dropna(inplace=True)\n",
        "data.drop_duplicates(inplace=True)\n",
        "\n",
        "# Feature and Label Selection\n",
        "features = ['temperature', 'voltage', 'current']\n",
        "label = 'status'  # status: healthy, degrading, failed\n",
        "\n",
        "X = data[features]\n",
        "y = data[label]\n",
        "\n",
        "# Feature Scaling\n",
        "scaler = StandardScaler()\n",
        "X_scaled = scaler.fit_transform(X)\n",
        "\n",
        "# Train-Test Split\n",
        "X_train, X_test, y_train, y_test = train_test_split(X_scaled, y, test_size=0.3, random_state=42)\n",
        "\n",
        "# Model Training - Random Forest\n",
        "model = RandomForestClassifier(n_estimators=100, random_state=42)\n",
        "model.fit(X_train, y_train)\n",
        "\n",
        "# Model Evaluation\n",
        "y_pred = model.predict(X_test)\n",
        "print(\"\\nClassification Report:\\n\", classification_report(y_test, y_pred))\n",
        "print(\"Confusion Matrix:\\n\", confusion_matrix(y_test, y_pred))\n",
        "print(\"Accuracy:\", accuracy_score(y_test, y_pred))\n",
        "print(\"Precision:\", precision_score(y_test, y_pred, average='weighted'))\n",
        "print(\"Recall:\", recall_score(y_test, y_pred, average='weighted'))\n",
        "print(\"F1 Score:\", f1_score(y_test, y_pred, average='weighted'))\n",
        "\n",
        "# Feature Importance\n",
        "importances = model.feature_importances_\n",
        "feature_names = features\n",
        "sns.barplot(x=importances, y=feature_names)\n",
        "plt.title(\"Feature Importance\")\n",
        "plt.show()\n",
        "\n",
        "# Save model for demo (optional)\n",
        "import joblib\n",
        "joblib.dump(model, 'predictive_model.pkl')\n"
      ]
    }
  ]
}